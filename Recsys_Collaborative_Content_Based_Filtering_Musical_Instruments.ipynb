{
 "cells": [
  {
   "cell_type": "code",
   "execution_count": 1,
   "id": "bd3097b9-5241-48f8-99ce-b4df326f625e",
   "metadata": {},
   "outputs": [],
   "source": [
    "import warnings\n",
    "warnings.filterwarnings(\"ignore\", category=DeprecationWarning) \n",
    "warnings.filterwarnings(\"ignore\", category=FutureWarning)"
   ]
  },
  {
   "cell_type": "code",
   "execution_count": 2,
   "id": "d25c75e9-f5bb-4c8f-a0ed-95e28f9819ba",
   "metadata": {},
   "outputs": [],
   "source": [
    "import pandas as pd\n",
    "import gzip\n",
    "import json"
   ]
  },
  {
   "cell_type": "code",
   "execution_count": 3,
   "id": "5869955a-7bf1-48cf-9f33-1fa477b26169",
   "metadata": {},
   "outputs": [],
   "source": [
    "def parse(path):\n",
    "  g = gzip.open(path, 'rb')\n",
    "  for l in g:\n",
    "    yield json.loads(l)\n",
    "def getNice(path):\n",
    "  i = 0\n",
    "  df = {}\n",
    "  for d in parse(path):\n",
    "    df[i] = d\n",
    "    i += 1\n",
    "  return pd.DataFrame.from_dict(df, orient='index')"
   ]
  },
  {
   "cell_type": "markdown",
   "id": "1ffb20bb-039d-4460-b507-e4c982af1e50",
   "metadata": {},
   "source": [
    "# Датасет с сайта Amazon с музыкальными инструментами"
   ]
  },
  {
   "cell_type": "code",
   "execution_count": 4,
   "id": "9a22915c-7902-42a9-8bc5-32e425477404",
   "metadata": {},
   "outputs": [],
   "source": [
    "data = getNice('./reviews_Musical_Instruments_5.json.gz')"
   ]
  },
  {
   "cell_type": "code",
   "execution_count": 5,
   "id": "a3cf161f-2eb3-4a63-898a-ab8a522668d9",
   "metadata": {},
   "outputs": [
    {
     "data": {
      "text/plain": [
       "(10261, 9)"
      ]
     },
     "execution_count": 5,
     "metadata": {},
     "output_type": "execute_result"
    }
   ],
   "source": [
    "data.shape"
   ]
  },
  {
   "cell_type": "code",
   "execution_count": 6,
   "id": "5d379eae-8386-4f90-9ca8-fbe079dc5858",
   "metadata": {},
   "outputs": [
    {
     "data": {
      "text/html": [
       "<div>\n",
       "<style scoped>\n",
       "    .dataframe tbody tr th:only-of-type {\n",
       "        vertical-align: middle;\n",
       "    }\n",
       "\n",
       "    .dataframe tbody tr th {\n",
       "        vertical-align: top;\n",
       "    }\n",
       "\n",
       "    .dataframe thead th {\n",
       "        text-align: right;\n",
       "    }\n",
       "</style>\n",
       "<table border=\"1\" class=\"dataframe\">\n",
       "  <thead>\n",
       "    <tr style=\"text-align: right;\">\n",
       "      <th></th>\n",
       "      <th>reviewerID</th>\n",
       "      <th>asin</th>\n",
       "      <th>reviewerName</th>\n",
       "      <th>helpful</th>\n",
       "      <th>reviewText</th>\n",
       "      <th>overall</th>\n",
       "      <th>summary</th>\n",
       "      <th>unixReviewTime</th>\n",
       "      <th>reviewTime</th>\n",
       "    </tr>\n",
       "  </thead>\n",
       "  <tbody>\n",
       "    <tr>\n",
       "      <th>0</th>\n",
       "      <td>A2IBPI20UZIR0U</td>\n",
       "      <td>1384719342</td>\n",
       "      <td>cassandra tu \"Yeah, well, that's just like, u...</td>\n",
       "      <td>[0, 0]</td>\n",
       "      <td>Not much to write about here, but it does exac...</td>\n",
       "      <td>5.0</td>\n",
       "      <td>good</td>\n",
       "      <td>1393545600</td>\n",
       "      <td>02 28, 2014</td>\n",
       "    </tr>\n",
       "    <tr>\n",
       "      <th>1</th>\n",
       "      <td>A14VAT5EAX3D9S</td>\n",
       "      <td>1384719342</td>\n",
       "      <td>Jake</td>\n",
       "      <td>[13, 14]</td>\n",
       "      <td>The product does exactly as it should and is q...</td>\n",
       "      <td>5.0</td>\n",
       "      <td>Jake</td>\n",
       "      <td>1363392000</td>\n",
       "      <td>03 16, 2013</td>\n",
       "    </tr>\n",
       "    <tr>\n",
       "      <th>2</th>\n",
       "      <td>A195EZSQDW3E21</td>\n",
       "      <td>1384719342</td>\n",
       "      <td>Rick Bennette \"Rick Bennette\"</td>\n",
       "      <td>[1, 1]</td>\n",
       "      <td>The primary job of this device is to block the...</td>\n",
       "      <td>5.0</td>\n",
       "      <td>It Does The Job Well</td>\n",
       "      <td>1377648000</td>\n",
       "      <td>08 28, 2013</td>\n",
       "    </tr>\n",
       "    <tr>\n",
       "      <th>3</th>\n",
       "      <td>A2C00NNG1ZQQG2</td>\n",
       "      <td>1384719342</td>\n",
       "      <td>RustyBill \"Sunday Rocker\"</td>\n",
       "      <td>[0, 0]</td>\n",
       "      <td>Nice windscreen protects my MXL mic and preven...</td>\n",
       "      <td>5.0</td>\n",
       "      <td>GOOD WINDSCREEN FOR THE MONEY</td>\n",
       "      <td>1392336000</td>\n",
       "      <td>02 14, 2014</td>\n",
       "    </tr>\n",
       "    <tr>\n",
       "      <th>4</th>\n",
       "      <td>A94QU4C90B1AX</td>\n",
       "      <td>1384719342</td>\n",
       "      <td>SEAN MASLANKA</td>\n",
       "      <td>[0, 0]</td>\n",
       "      <td>This pop filter is great. It looks and perform...</td>\n",
       "      <td>5.0</td>\n",
       "      <td>No more pops when I record my vocals.</td>\n",
       "      <td>1392940800</td>\n",
       "      <td>02 21, 2014</td>\n",
       "    </tr>\n",
       "  </tbody>\n",
       "</table>\n",
       "</div>"
      ],
      "text/plain": [
       "       reviewerID        asin  \\\n",
       "0  A2IBPI20UZIR0U  1384719342   \n",
       "1  A14VAT5EAX3D9S  1384719342   \n",
       "2  A195EZSQDW3E21  1384719342   \n",
       "3  A2C00NNG1ZQQG2  1384719342   \n",
       "4   A94QU4C90B1AX  1384719342   \n",
       "\n",
       "                                       reviewerName   helpful  \\\n",
       "0  cassandra tu \"Yeah, well, that's just like, u...    [0, 0]   \n",
       "1                                              Jake  [13, 14]   \n",
       "2                     Rick Bennette \"Rick Bennette\"    [1, 1]   \n",
       "3                         RustyBill \"Sunday Rocker\"    [0, 0]   \n",
       "4                                     SEAN MASLANKA    [0, 0]   \n",
       "\n",
       "                                          reviewText  overall  \\\n",
       "0  Not much to write about here, but it does exac...      5.0   \n",
       "1  The product does exactly as it should and is q...      5.0   \n",
       "2  The primary job of this device is to block the...      5.0   \n",
       "3  Nice windscreen protects my MXL mic and preven...      5.0   \n",
       "4  This pop filter is great. It looks and perform...      5.0   \n",
       "\n",
       "                                 summary  unixReviewTime   reviewTime  \n",
       "0                                   good      1393545600  02 28, 2014  \n",
       "1                                   Jake      1363392000  03 16, 2013  \n",
       "2                   It Does The Job Well      1377648000  08 28, 2013  \n",
       "3          GOOD WINDSCREEN FOR THE MONEY      1392336000  02 14, 2014  \n",
       "4  No more pops when I record my vocals.      1392940800  02 21, 2014  "
      ]
     },
     "execution_count": 6,
     "metadata": {},
     "output_type": "execute_result"
    }
   ],
   "source": [
    "data.head()"
   ]
  },
  {
   "cell_type": "markdown",
   "id": "245c0222-e3a3-408f-b56b-7a54d2fac6e7",
   "metadata": {},
   "source": [
    "В данном датасете рейтинг (оценка) находится в колонке \"overall\""
   ]
  },
  {
   "cell_type": "code",
   "execution_count": 7,
   "id": "61dea8da-2186-4934-827a-61e7208a6d87",
   "metadata": {},
   "outputs": [
    {
     "data": {
      "text/plain": [
       "overall\n",
       "5.0    6938\n",
       "4.0    2084\n",
       "3.0     772\n",
       "2.0     250\n",
       "1.0     217\n",
       "Name: count, dtype: int64"
      ]
     },
     "execution_count": 7,
     "metadata": {},
     "output_type": "execute_result"
    }
   ],
   "source": [
    "data['overall'].value_counts()"
   ]
  },
  {
   "cell_type": "markdown",
   "id": "c3d23a21-09d3-419b-a4f5-13251491191b",
   "metadata": {},
   "source": [
    "Сколько отдельных покупателей ставили оценки товарам:"
   ]
  },
  {
   "cell_type": "code",
   "execution_count": 8,
   "id": "40eb04d2-9111-489b-bb5f-e2dcb345516c",
   "metadata": {},
   "outputs": [
    {
     "data": {
      "text/plain": [
       "1429"
      ]
     },
     "execution_count": 8,
     "metadata": {},
     "output_type": "execute_result"
    }
   ],
   "source": [
    "data['reviewerID'].nunique()"
   ]
  },
  {
   "cell_type": "markdown",
   "id": "0d07db2b-b18b-4233-9ce1-b115ac3b3ce3",
   "metadata": {},
   "source": [
    "Сколько уникальных товаров есть в датасете:"
   ]
  },
  {
   "cell_type": "code",
   "execution_count": 9,
   "id": "32e9d806-6dad-4f34-bf39-1426378c9155",
   "metadata": {},
   "outputs": [
    {
     "data": {
      "text/plain": [
       "900"
      ]
     },
     "execution_count": 9,
     "metadata": {},
     "output_type": "execute_result"
    }
   ],
   "source": [
    "data['asin'].nunique()"
   ]
  },
  {
   "cell_type": "markdown",
   "id": "ec8df32b-8c6e-4dd5-9d67-9fc9b4709367",
   "metadata": {},
   "source": [
    "Количества покупателей и товаров сопоставимы, покупателей немного больше."
   ]
  },
  {
   "cell_type": "markdown",
   "id": "8968aeb9-78e1-4789-a118-a81482f49092",
   "metadata": {},
   "source": [
    "Для начала попробую применить метод коллаборативной фильтрации и посмотреть, что получится на таком маленьком датасете."
   ]
  },
  {
   "cell_type": "code",
   "execution_count": 10,
   "id": "5545e05f-addb-4bbf-9314-ceb18f8738ac",
   "metadata": {},
   "outputs": [],
   "source": [
    "import numpy as np\n",
    "from tqdm import tqdm_notebook\n",
    "from sklearn.metrics import mean_squared_error\n",
    "from sklearn.metrics.pairwise import cosine_similarity\n",
    "from sklearn.base import BaseEstimator"
   ]
  },
  {
   "cell_type": "markdown",
   "id": "b1c7c449-d8a0-4bf6-88ed-7d47011689d0",
   "metadata": {},
   "source": [
    "# Разбиение на train и test"
   ]
  },
  {
   "cell_type": "markdown",
   "id": "8811214c-95a8-4aac-8998-387217b69958",
   "metadata": {},
   "source": [
    "Отбираю 20% последних оценок от каждого пользователя на тестирование, остальное пойдет на обучение модели."
   ]
  },
  {
   "cell_type": "code",
   "execution_count": 11,
   "id": "72c854d2-f8f9-4731-b9c0-b1683bc1dfc1",
   "metadata": {},
   "outputs": [],
   "source": [
    "def train_test_split(X, ratio=0.2):\n",
    "    X.sort_values(by=['unixReviewTime'], inplace=True)\n",
    "    userIDs = X['reviewerID'].unique()\n",
    "    X_train_data = []\n",
    "    X_test_data = []\n",
    "    y_train = []\n",
    "    y_test = []\n",
    "    for userID in tqdm_notebook(userIDs):\n",
    "        curUser = X[X['reviewerID'] == userID]\n",
    "        idx = int(curUser.shape[0] * (1 - ratio))\n",
    "        X_train_data.append(curUser[['reviewerID', 'asin']].iloc[:idx, :].values)\n",
    "        X_test_data.append(curUser[['reviewerID', 'asin']].iloc[idx:, :].values)\n",
    "        y_train.append(curUser['overall'].values[:idx])\n",
    "        y_test.append(curUser['overall'].values[idx:])\n",
    "    X_train = pd.DataFrame(np.vstack(X_train_data), columns=['reviewerID', 'asin'])\n",
    "    X_test = pd.DataFrame(np.vstack(X_test_data), columns=['reviewerID', 'asin'])\n",
    "    y_train = np.hstack(y_train)\n",
    "    y_test = np.hstack(y_test)\n",
    "    return X_train, X_test, y_train, y_test"
   ]
  },
  {
   "cell_type": "code",
   "execution_count": 12,
   "id": "85738913-d0f1-4fb2-a5f0-3f027ae94adf",
   "metadata": {},
   "outputs": [
    {
     "data": {
      "application/vnd.jupyter.widget-view+json": {
       "model_id": "986728e6e6214e2a9abeb2a85305e089",
       "version_major": 2,
       "version_minor": 0
      },
      "text/plain": [
       "  0%|          | 0/1429 [00:00<?, ?it/s]"
      ]
     },
     "metadata": {},
     "output_type": "display_data"
    }
   ],
   "source": [
    "X_train, X_test, y_train, y_test = train_test_split(data)"
   ]
  },
  {
   "cell_type": "code",
   "execution_count": 13,
   "id": "00062ff8-f66a-4b84-8edf-a37b5bd5dbb0",
   "metadata": {},
   "outputs": [
    {
     "data": {
      "text/plain": [
       "((7722, 2), (2539, 2))"
      ]
     },
     "execution_count": 13,
     "metadata": {},
     "output_type": "execute_result"
    }
   ],
   "source": [
    "X_train.shape, X_test.shape"
   ]
  },
  {
   "cell_type": "code",
   "execution_count": 14,
   "id": "40e41c68-5da6-4c8b-9f27-45064fbb9fc7",
   "metadata": {},
   "outputs": [
    {
     "data": {
      "text/html": [
       "<div>\n",
       "<style scoped>\n",
       "    .dataframe tbody tr th:only-of-type {\n",
       "        vertical-align: middle;\n",
       "    }\n",
       "\n",
       "    .dataframe tbody tr th {\n",
       "        vertical-align: top;\n",
       "    }\n",
       "\n",
       "    .dataframe thead th {\n",
       "        text-align: right;\n",
       "    }\n",
       "</style>\n",
       "<table border=\"1\" class=\"dataframe\">\n",
       "  <thead>\n",
       "    <tr style=\"text-align: right;\">\n",
       "      <th></th>\n",
       "      <th>reviewerID</th>\n",
       "      <th>asin</th>\n",
       "    </tr>\n",
       "  </thead>\n",
       "  <tbody>\n",
       "    <tr>\n",
       "      <th>0</th>\n",
       "      <td>AV8MDYLHHTUOY</td>\n",
       "      <td>B000CD3QY2</td>\n",
       "    </tr>\n",
       "    <tr>\n",
       "      <th>1</th>\n",
       "      <td>AV8MDYLHHTUOY</td>\n",
       "      <td>B008BPI2HE</td>\n",
       "    </tr>\n",
       "    <tr>\n",
       "      <th>2</th>\n",
       "      <td>AV8MDYLHHTUOY</td>\n",
       "      <td>B0002Z2D0I</td>\n",
       "    </tr>\n",
       "    <tr>\n",
       "      <th>3</th>\n",
       "      <td>AV8MDYLHHTUOY</td>\n",
       "      <td>B0002Z2D08</td>\n",
       "    </tr>\n",
       "    <tr>\n",
       "      <th>4</th>\n",
       "      <td>A33H0WC9MI8OVW</td>\n",
       "      <td>B0002D0COE</td>\n",
       "    </tr>\n",
       "  </tbody>\n",
       "</table>\n",
       "</div>"
      ],
      "text/plain": [
       "       reviewerID        asin\n",
       "0   AV8MDYLHHTUOY  B000CD3QY2\n",
       "1   AV8MDYLHHTUOY  B008BPI2HE\n",
       "2   AV8MDYLHHTUOY  B0002Z2D0I\n",
       "3   AV8MDYLHHTUOY  B0002Z2D08\n",
       "4  A33H0WC9MI8OVW  B0002D0COE"
      ]
     },
     "execution_count": 14,
     "metadata": {},
     "output_type": "execute_result"
    }
   ],
   "source": [
    "X_train.head()"
   ]
  },
  {
   "cell_type": "code",
   "execution_count": 15,
   "id": "4a9108f5-922e-4400-bd49-ec88750cd26c",
   "metadata": {},
   "outputs": [
    {
     "data": {
      "text/plain": [
       "array([4., 4., 5., ..., 5., 5., 5.])"
      ]
     },
     "execution_count": 15,
     "metadata": {},
     "output_type": "execute_result"
    }
   ],
   "source": [
    "y_train"
   ]
  },
  {
   "cell_type": "markdown",
   "id": "896ccd56-d305-4e4f-9050-330d94c3a6b4",
   "metadata": {},
   "source": [
    "# Коллоборативная фильтрация: User-based model\n",
    "- на основе известных оценок товаров предсказываю оценку товару для данного покупателя, учитывая с большим весом оценки похожих покупателей\n",
    "- похожесть покупателей вычисляю на основе косинусного сходства векторов их оценок"
   ]
  },
  {
   "cell_type": "code",
   "execution_count": 16,
   "id": "7345896d-24b0-470a-a37b-2f8cd27daf06",
   "metadata": {},
   "outputs": [],
   "source": [
    "class UserBased(BaseEstimator):\n",
    "    def fit(self, X, y, user_col='reviewerID', item_col='asin'):\n",
    "        X = X.copy()\n",
    "        self.users = X[user_col].unique()\n",
    "        self.items = X[item_col].unique()\n",
    "        X['y'] = y\n",
    "        self.mean_y_user = X.groupby(user_col)['y'].mean()\n",
    "        self.mean_y_item = X.groupby(item_col)['y'].mean()\n",
    "        X['y'] -= X[user_col].apply(lambda x: self.mean_y_user[x])\n",
    "        self.user_ratings = pd.pivot_table(X, values='y', index=user_col,\n",
    "                                           columns=item_col, fill_value=0)\n",
    "        self.user_sim = cosine_similarity(self.user_ratings)\n",
    "        self.user_pos = dict()\n",
    "        for user in self.users:\n",
    "            self.user_pos[user] = np.argwhere(self.user_ratings.index.values == user)[0][0]\n",
    "        return self\n",
    "\n",
    "    def predict_rating(self, pr_user, pr_item):\n",
    "        if not pr_item in self.items or not pr_user in self.users:\n",
    "            return 0\n",
    "        numerator = self.user_sim[self.user_pos[pr_user]].dot(\n",
    "                        self.user_ratings.loc[:, pr_item])\n",
    "        denominator = np.abs(self.user_sim[self.user_pos[pr_user]]).sum() - 1\n",
    "        return self.mean_y_user[pr_user] + numerator / denominator\n",
    "    def predict(self, X, user_col='reviewerID', item_col='asin'):\n",
    "        y = X[[user_col, item_col]].apply(lambda row: self.predict_rating(row[0], row[1]), axis=1)\n",
    "        return y"
   ]
  },
  {
   "cell_type": "code",
   "execution_count": 17,
   "id": "5e330e1a-e92a-40ce-9368-b3d7def191e3",
   "metadata": {},
   "outputs": [],
   "source": [
    "rmse = lambda y_true, y_pred: np.sqrt(mean_squared_error(y_true, y_pred))"
   ]
  },
  {
   "cell_type": "code",
   "execution_count": 18,
   "id": "ad586854-1a89-4e07-85cd-3e039ef5140e",
   "metadata": {},
   "outputs": [],
   "source": [
    "model = UserBased().fit(X_train, y_train)"
   ]
  },
  {
   "cell_type": "code",
   "execution_count": 19,
   "id": "64cf90dd-5ddd-4348-a5ec-96a67257a3c4",
   "metadata": {},
   "outputs": [
    {
     "name": "stdout",
     "output_type": "stream",
     "text": [
      "User-based Colloborative filtering RMSE = 1.0338196858363196\n"
     ]
    }
   ],
   "source": [
    "print('User-based Colloborative filtering RMSE = {}'.format(rmse(y_test, model.predict(X_test))))"
   ]
  },
  {
   "cell_type": "markdown",
   "id": "0996252d-7528-4782-ad56-aea103a8dc20",
   "metadata": {},
   "source": [
    "# Коллоборативная фильтрация: Item-based model\n",
    "- на основе известных оценок товаров от покупателя предсказываю оценки других товаров для этого покупателя, учитывая с большим весом похожие товары\n",
    "- похожесть товаров также вычислим на основе косинусного сходства векторов их оценок\n"
   ]
  },
  {
   "cell_type": "code",
   "execution_count": 20,
   "id": "08903abc-0744-431e-91bb-0790b5a2f1c8",
   "metadata": {},
   "outputs": [],
   "source": [
    "class ItemBased(BaseEstimator):\n",
    "    def fit(self, X, y, user_col='reviewerID', item_col='asin'):\n",
    "        X = X.copy()\n",
    "        self.users = X[user_col].unique()\n",
    "        self.items = X[item_col].unique()\n",
    "        X['y'] = y\n",
    "        self.mean_y_user = X.groupby(user_col)['y'].mean()\n",
    "        self.mean_y_item = X.groupby(item_col)['y'].mean()\n",
    "        X['y'] -= X[item_col].apply(lambda x: self.mean_y_item[x])\n",
    "        self.item_ratings = pd.pivot_table(X, values='y', index=item_col,\n",
    "                                           columns=user_col, fill_value=0)\n",
    "        self.item_sim = cosine_similarity(self.item_ratings)\n",
    "        self.item_pos = dict()\n",
    "        for item in self.items:\n",
    "            self.item_pos[item] = np.argwhere(self.item_ratings.index.values == item)[0][0]\n",
    "        return self\n",
    "    def predict_rating(self, pr_user, pr_item):\n",
    "        if not pr_item in self.items or not pr_user in self.users:\n",
    "            return 0\n",
    "        numerator = self.item_sim[self.item_pos[pr_item]].dot(\n",
    "                        self.item_ratings.loc[:, pr_user])\n",
    "        denominator = np.abs(self.item_sim[self.item_pos[pr_item]]).sum() - 1\n",
    "        return self.mean_y_item[pr_item] + numerator / denominator\n",
    "\n",
    "    def predict(self, X, user_col='reviewerID', item_col='asin'):\n",
    "        y = X[[user_col, item_col]].apply(lambda row: self.predict_rating(row[0], row[1]), axis=1)\n",
    "        return y"
   ]
  },
  {
   "cell_type": "code",
   "execution_count": 21,
   "id": "9bbcb8ba-04de-4afb-8fa4-c3bc506a6ca7",
   "metadata": {},
   "outputs": [],
   "source": [
    "model = ItemBased().fit(X_train, y_train)"
   ]
  },
  {
   "cell_type": "code",
   "execution_count": 22,
   "id": "9924176c-8094-4744-bd8f-0b4d73b9731a",
   "metadata": {},
   "outputs": [
    {
     "name": "stdout",
     "output_type": "stream",
     "text": [
      "Item-based Colloborative filtering RMSE = 1.071995624542344\n"
     ]
    }
   ],
   "source": [
    "print('Item-based Colloborative filtering RMSE = {}'.format(rmse(y_test, model.predict(X_test))))"
   ]
  },
  {
   "attachments": {},
   "cell_type": "markdown",
   "id": "d278962e-577c-481b-a4dc-e7d214a547c2",
   "metadata": {},
   "source": [
    "Ошибки в случае User-based и Item-based очень похожи, но в User-based RMSE все же немного ниже."
   ]
  },
  {
   "cell_type": "markdown",
   "id": "70e1c2c7-073d-4d83-ba11-d1d3ecb8ff27",
   "metadata": {},
   "source": [
    "Для создания рекомендательной системы все же попробую более продвинутые методы."
   ]
  },
  {
   "cell_type": "markdown",
   "id": "f85c3849-611e-400c-9aa7-5f4bc91d7416",
   "metadata": {},
   "source": [
    "# Content-based filtration c TF-IDF"
   ]
  },
  {
   "cell_type": "markdown",
   "id": "e73e87d0-d69e-40f6-9e21-499b470f370c",
   "metadata": {},
   "source": [
    "Для определения схожести товаров обработаю отзывы покупателей из колонки reviewText с помощью TF-IDF и получу вектора описаний, которые и будут использованы для определения схожести товаров. В отзывах чаще всего содержится достаточно много информации о товаре."
   ]
  },
  {
   "cell_type": "code",
   "execution_count": 23,
   "id": "82e1c1e2-e3f1-42c5-b262-81fe5ca76284",
   "metadata": {},
   "outputs": [],
   "source": [
    "from typing import List, Dict\n",
    "from sklearn.feature_extraction.text import TfidfVectorizer, TfidfTransformer\n",
    "from sklearn.metrics.pairwise import linear_kernel"
   ]
  },
  {
   "cell_type": "code",
   "execution_count": 24,
   "id": "4c7ef1a8-a875-4bc7-9c00-324ef7ee6a81",
   "metadata": {},
   "outputs": [
    {
     "data": {
      "text/plain": [
       "(10261, 9)"
      ]
     },
     "execution_count": 24,
     "metadata": {},
     "output_type": "execute_result"
    }
   ],
   "source": [
    "data.shape"
   ]
  },
  {
   "cell_type": "code",
   "execution_count": 25,
   "id": "d01b94fa-be47-4f64-8cab-35c7055c44e6",
   "metadata": {},
   "outputs": [
    {
     "data": {
      "text/plain": [
       "10255"
      ]
     },
     "execution_count": 25,
     "metadata": {},
     "output_type": "execute_result"
    }
   ],
   "source": [
    "data.reviewText.nunique()"
   ]
  },
  {
   "cell_type": "markdown",
   "id": "32236351-70a6-4ebf-8508-3225564daa2d",
   "metadata": {},
   "source": [
    "Отзывы скорее не все уникальны, уберу дупликаты"
   ]
  },
  {
   "cell_type": "code",
   "execution_count": 26,
   "id": "b7427034-5278-4a0f-98f2-3fc49745afc7",
   "metadata": {},
   "outputs": [],
   "source": [
    "clean_data = data.drop_duplicates(subset = 'reviewText')"
   ]
  },
  {
   "cell_type": "code",
   "execution_count": 27,
   "id": "9351ee29-ecca-481d-a834-dafe9bead463",
   "metadata": {},
   "outputs": [],
   "source": [
    "tfidf = TfidfVectorizer(analyzer='word', stop_words='english')\n",
    "tfidf_matrix = tfidf.fit_transform(clean_data['reviewText'])"
   ]
  },
  {
   "cell_type": "code",
   "execution_count": 28,
   "id": "424cc963-7916-4443-bd13-9b62e3809fa6",
   "metadata": {},
   "outputs": [
    {
     "data": {
      "text/plain": [
       "(10255, 20251)"
      ]
     },
     "execution_count": 28,
     "metadata": {},
     "output_type": "execute_result"
    }
   ],
   "source": [
    "tfidf_matrix.shape"
   ]
  },
  {
   "cell_type": "markdown",
   "id": "006ea87d-af7b-49a0-96b0-1bf87848beb4",
   "metadata": {},
   "source": [
    "Схожесть товаров снова буду определять с помощью косинусной меры"
   ]
  },
  {
   "cell_type": "code",
   "execution_count": 29,
   "id": "8c8d91e9-cf79-482b-873e-24e962e5b3a8",
   "metadata": {},
   "outputs": [],
   "source": [
    "cosine_similarities = cosine_similarity(tfidf_matrix)"
   ]
  },
  {
   "cell_type": "markdown",
   "id": "75779ffd-b076-4d35-b48a-15d7727b1dcf",
   "metadata": {},
   "source": [
    "Создаю словарь с похожими товарами для каждого товара"
   ]
  },
  {
   "cell_type": "code",
   "execution_count": 30,
   "id": "a45d5c87-383e-49a8-916b-40c8ab6b4fdf",
   "metadata": {},
   "outputs": [],
   "source": [
    "similarities = {}\n",
    "for i in range(len(cosine_similarities)):\n",
    "    similar_indices = cosine_similarities[i].argsort()[:-50:-1]\n",
    "    similarities[clean_data['asin'].iloc[i]] = [(cosine_similarities[i][x], clean_data.iloc[x]['reviewText'], clean_data.iloc[x]['asin']) for x in similar_indices][1:]"
   ]
  },
  {
   "cell_type": "markdown",
   "id": "21a2ddf3-40a4-4e64-b6c7-6a09ea718a05",
   "metadata": {},
   "source": [
    "И саму рекомендательную систему"
   ]
  },
  {
   "cell_type": "code",
   "execution_count": 31,
   "id": "9e683d06-8deb-40ad-bf23-d03c7245c8f7",
   "metadata": {},
   "outputs": [],
   "source": [
    "class ContentBasedRecommender:\n",
    "    def __init__(self, matrix):\n",
    "        self.matrix_similar = matrix\n",
    "\n",
    "    def _print_message(self, item, recom_item):\n",
    "        rec_items = len(recom_item)\n",
    "\n",
    "        print(f'The {rec_items} recommended items are:')\n",
    "        for i in range(rec_items):\n",
    "            print(f\"Number {i+1}:\")\n",
    "            print(f\"{recom_item[i][1]} with {round(recom_item[i][0], 3)} similarity score\")\n",
    "            print(\"--------------------\")\n",
    "\n",
    "    def recommend(self, recommendation, verbose = True):\n",
    "        item = recommendation['item']\n",
    "        number_items = recommendation['item_number']\n",
    "        recom_item = self.matrix_similar[item][:number_items]\n",
    "        if verbose:\n",
    "            self._print_message(item=item, recom_item=recom_item)\n",
    "        return recom_item"
   ]
  },
  {
   "cell_type": "code",
   "execution_count": 32,
   "id": "cf9db77e-7eab-427e-9826-7d08c7b56d62",
   "metadata": {},
   "outputs": [],
   "source": [
    "recommedations = ContentBasedRecommender(similarities)"
   ]
  },
  {
   "cell_type": "markdown",
   "id": "bbc10fa5-0418-4212-a3b9-4e46beccfc9c",
   "metadata": {},
   "source": [
    "Посмотрю, что система порекомендует тому, кто написал вот такой отзыв:"
   ]
  },
  {
   "cell_type": "code",
   "execution_count": 33,
   "id": "615d80ec-8458-4faf-98f3-e8a814ca472a",
   "metadata": {},
   "outputs": [
    {
     "data": {
      "text/plain": [
       "'Jade rosin gives a extra grippiness to the bow.  It hardly generates any dust, and gives the bow that extra grab.  The only problem is that the effect wears off quickly.  I use it in combination with Motrya Gold.'"
      ]
     },
     "execution_count": 33,
     "metadata": {},
     "output_type": "execute_result"
    }
   ],
   "source": [
    "clean_data.iloc[2,4]"
   ]
  },
  {
   "cell_type": "code",
   "execution_count": 34,
   "id": "17c37ee0-84ec-4d9d-8a6f-83944efd5db5",
   "metadata": {},
   "outputs": [
    {
     "name": "stdout",
     "output_type": "stream",
     "text": [
      "Recommendations for  B002Q0WT6U Jade rosin gives a extra grippiness to the bow.  It hardly generates any dust, and gives the bow that extra grab.  The only problem is that the effect wears off quickly.  I use it in combination with Motrya Gold. :\n",
      "\n",
      "\n",
      "The 3 recommended items are:\n",
      "Number 1:\n",
      "Very good rosin and does exactly what is described.  A nice finish to the other rosin with specific bows.  No need to try mix rosin when a new bow with the rosin labeled on the bow will reduce the mystery of trying to figure out which bow to used in different temperatures and humidity. with 0.54 similarity score\n",
      "--------------------\n",
      "Number 2:\n",
      "I had some other rosin that was just a mess to apply.  This rosin is great because it's encased in a wooden sleeve that leaves your fingers free of rosin.  It's so easy to apply and doesn't leave any messy residue on my fingers.  I haven't been playing the violin for very long but did know I needed something to rosin the bow easily.  This was exactly what I needed. with 0.474 similarity score\n",
      "--------------------\n",
      "Number 3:\n",
      "What can you say about Rosin?  This rosin seems to be better than the cheapo kind I had and so I feel it is worth the extra money. with 0.469 similarity score\n",
      "--------------------\n"
     ]
    }
   ],
   "source": [
    "idx = 2\n",
    "recommendation = {\n",
    "    \"item\": clean_data['asin'].iloc[idx],\n",
    "    \"item_number\": 3\n",
    "}\n",
    "print('Recommendations for ', clean_data['asin'].iloc[idx], clean_data['reviewText'].iloc[idx],':\\n\\n')\n",
    "recom_item = recommedations.recommend(recommendation)"
   ]
  },
  {
   "cell_type": "markdown",
   "id": "c70b0d98-7b6c-48a0-8bfc-bec5929fe076",
   "metadata": {},
   "source": [
    "В принципе неплохо, если предположить, что люди, купившие канифоль и оставившие отзыв о ней, хотят купить еще один одну канифоль"
   ]
  },
  {
   "cell_type": "markdown",
   "id": "000f227b-0716-416c-9b24-4ca9cf5f0848",
   "metadata": {},
   "source": [
    "Посмотрю, что предложит система вот этому покупателю"
   ]
  },
  {
   "cell_type": "code",
   "execution_count": 36,
   "id": "625b7614-64ca-4708-acb0-f88dd0bcc6b4",
   "metadata": {},
   "outputs": [],
   "source": [
    "customer = 'A33H0WC9MI8OVW'\n",
    "cur_customer = clean_data[clean_data.reviewerID == customer]"
   ]
  },
  {
   "cell_type": "markdown",
   "id": "eeca039c-4c9d-42d2-baf3-28ba195e18d4",
   "metadata": {},
   "source": [
    "Какой товар он оценил высоко?"
   ]
  },
  {
   "cell_type": "code",
   "execution_count": 37,
   "id": "9e427cec-2850-43a0-9b7f-60840cbde941",
   "metadata": {},
   "outputs": [
    {
     "data": {
      "text/plain": [
       "reviewerID                                           A33H0WC9MI8OVW\n",
       "asin                                                     B0002D0CGW\n",
       "reviewerName                                              Clare Chu\n",
       "helpful                                                      [1, 1]\n",
       "reviewText        The .6 MM pick has just the right amount of fl...\n",
       "overall                                                         5.0\n",
       "summary                           Just right for Mountain dulcimers\n",
       "unixReviewTime                                           1340150400\n",
       "reviewTime                                              06 20, 2012\n",
       "Name: 856, dtype: object"
      ]
     },
     "execution_count": 37,
     "metadata": {},
     "output_type": "execute_result"
    }
   ],
   "source": [
    "cur_customer.sort_values('overall').iloc[-1]"
   ]
  },
  {
   "cell_type": "markdown",
   "id": "f76ecb10-6a35-40eb-aa8b-77e2d05d4da5",
   "metadata": {},
   "source": [
    "Медиатор для гитары. Что же ему предложит система?"
   ]
  },
  {
   "cell_type": "code",
   "execution_count": 38,
   "id": "75182e21-3293-485f-a22e-8f1c06be3371",
   "metadata": {},
   "outputs": [
    {
     "name": "stdout",
     "output_type": "stream",
     "text": [
      "Recommendations for  B0002D0CGW the .6 mm pick has just the right amount of flexibility without flapping around like thinner picks. and the dunlop nylon standard is my first choice for mountain dulcimer playing. i know people use yogurt containers, credit cards, bird feathers and even coffee stirrers for picks, but for me, the consistency of the dunlop pick can't be beaten. and the price is right, too! \n",
      "\n",
      "\n",
      "The 5 recommended items are:\n",
      "Number 1:\n",
      "I like a flexible pick and these at .60mm work just fine.  They are also in a good color so they don't stand out too much. with 0.315 similarity score\n",
      "--------------------\n",
      "Number 2:\n",
      "What else can be said about them, they're good picks. They strum well, they pick well and they look good with 0.308 similarity score\n",
      "--------------------\n",
      "Number 3:\n",
      "these come in multiple thickness and are great because of the thickness and the grip that is on the pick. makes it much easier to hold the pick as your hands get sweaty with 0.292 similarity score\n",
      "--------------------\n",
      "Number 4:\n",
      "I almost always play finger style without a pick, but on the occasion I need a pick I like these.Easier to strum sounds good to me.If you're doing a lot of picking out individual strings, you'll probably want something thicker, but these make it really easy to strum chords and sound good, plus pick out a few strings here and there. with 0.276 similarity score\n",
      "--------------------\n",
      "Number 5:\n",
      "Durable, affordable, easy to grasp and use. with 0.272 similarity score\n",
      "--------------------\n"
     ]
    }
   ],
   "source": [
    "recommendation = {\n",
    "    \"item\": str(cur_customer.iloc[-1].asin),\n",
    "    \"item_number\": 5\n",
    "}\n",
    "print('Recommendations for ',cur_customer.iloc[-1].asin, cur_customer.iloc[-1]['reviewText'].lower(),'\\n\\n')\n",
    "recom_item = recommedations.recommend(recommendation)"
   ]
  },
  {
   "cell_type": "markdown",
   "id": "ca76aca5-e67f-4ef6-a84c-ed74d368dbca",
   "metadata": {},
   "source": [
    "Да, человеку, оставившему отзывы о медиаторе для гитары, предлагается купить еще медиаторы для гитары."
   ]
  },
  {
   "cell_type": "markdown",
   "id": "e16345d9-1ce4-4aee-bc64-45d711cae1e2",
   "metadata": {},
   "source": [
    "Попробую гибридный подход с помощью библиотеки surprise"
   ]
  },
  {
   "cell_type": "code",
   "execution_count": 39,
   "id": "19fd2df6-7599-4fff-90a1-dbdb32627fa4",
   "metadata": {},
   "outputs": [],
   "source": [
    "import surprise\n",
    "from surprise.prediction_algorithms.knns import KNNBasic\n",
    "from surprise import Dataset\n",
    "from surprise import Reader"
   ]
  },
  {
   "cell_type": "code",
   "execution_count": 40,
   "id": "de86dc9d-9ba0-40f3-a046-d3cf7778b2ac",
   "metadata": {},
   "outputs": [
    {
     "data": {
      "text/html": [
       "<div>\n",
       "<style scoped>\n",
       "    .dataframe tbody tr th:only-of-type {\n",
       "        vertical-align: middle;\n",
       "    }\n",
       "\n",
       "    .dataframe tbody tr th {\n",
       "        vertical-align: top;\n",
       "    }\n",
       "\n",
       "    .dataframe thead th {\n",
       "        text-align: right;\n",
       "    }\n",
       "</style>\n",
       "<table border=\"1\" class=\"dataframe\">\n",
       "  <thead>\n",
       "    <tr style=\"text-align: right;\">\n",
       "      <th></th>\n",
       "      <th>reviewerID</th>\n",
       "      <th>asin</th>\n",
       "      <th>reviewerName</th>\n",
       "      <th>helpful</th>\n",
       "      <th>reviewText</th>\n",
       "      <th>overall</th>\n",
       "      <th>summary</th>\n",
       "      <th>unixReviewTime</th>\n",
       "      <th>reviewTime</th>\n",
       "    </tr>\n",
       "  </thead>\n",
       "  <tbody>\n",
       "    <tr>\n",
       "      <th>4420</th>\n",
       "      <td>AV8MDYLHHTUOY</td>\n",
       "      <td>B000CD3QY2</td>\n",
       "      <td>Amazon Customer \"eyegor\"</td>\n",
       "      <td>[18, 19]</td>\n",
       "      <td>The ability to quickly change the range and se...</td>\n",
       "      <td>4.0</td>\n",
       "      <td>GREAT Wah</td>\n",
       "      <td>1095465600</td>\n",
       "      <td>09 18, 2004</td>\n",
       "    </tr>\n",
       "  </tbody>\n",
       "</table>\n",
       "</div>"
      ],
      "text/plain": [
       "         reviewerID        asin              reviewerName   helpful  \\\n",
       "4420  AV8MDYLHHTUOY  B000CD3QY2  Amazon Customer \"eyegor\"  [18, 19]   \n",
       "\n",
       "                                             reviewText  overall    summary  \\\n",
       "4420  The ability to quickly change the range and se...      4.0  GREAT Wah   \n",
       "\n",
       "      unixReviewTime   reviewTime  \n",
       "4420      1095465600  09 18, 2004  "
      ]
     },
     "execution_count": 40,
     "metadata": {},
     "output_type": "execute_result"
    }
   ],
   "source": [
    "data.head(1)"
   ]
  },
  {
   "cell_type": "markdown",
   "id": "1c49821b-9c9b-49fb-bf58-d74a244c3570",
   "metadata": {},
   "source": [
    "User-based Коллаборативная фильтрация "
   ]
  },
  {
   "cell_type": "code",
   "execution_count": 41,
   "id": "2a0402de-8a9f-49ee-b5dd-ad2116ee3f9d",
   "metadata": {},
   "outputs": [
    {
     "name": "stdout",
     "output_type": "stream",
     "text": [
      "Computing the msd similarity matrix...\n",
      "Done computing similarity matrix.\n"
     ]
    },
    {
     "data": {
      "text/plain": [
       "<surprise.prediction_algorithms.knns.KNNBasic at 0x7f163bc7f6d0>"
      ]
     },
     "execution_count": 41,
     "metadata": {},
     "output_type": "execute_result"
    }
   ],
   "source": [
    "reader = Reader(rating_scale=(1, max(data.overall)))\n",
    "data = Dataset.load_from_df(data[['reviewerID','asin','overall']], reader)\n",
    "trainset = data.build_full_trainset()\n",
    "algo = KNNBasic()\n",
    "algo.fit(trainset)"
   ]
  },
  {
   "cell_type": "markdown",
   "id": "20ca2dbf-f328-460e-a880-ea685b499d6f",
   "metadata": {},
   "source": [
    "Посмотрю, что порекомендует алгоритм тому покупателю, который оценивал медиатор для гитары"
   ]
  },
  {
   "cell_type": "code",
   "execution_count": 42,
   "id": "2001958c-0db8-4d65-a433-43cd6d5a5da4",
   "metadata": {},
   "outputs": [],
   "source": [
    "user = 'A33H0WC9MI8OVW'"
   ]
  },
  {
   "cell_type": "code",
   "execution_count": 43,
   "id": "b2360679-5207-4ae1-83e5-9c4fac46ef97",
   "metadata": {},
   "outputs": [],
   "source": [
    "cur_user = clean_data[clean_data.reviewerID == user].copy()\n",
    "preds = []\n",
    "for code in list(clean_data.asin.unique()):\n",
    "    if not code in set(cur_user.asin):\n",
    "        pred = algo.predict(str(user), str(code)).est\n",
    "        desc = clean_data.groupby('asin').first().reviewText[str(code)]\n",
    "        preds.append([code, desc, pred])"
   ]
  },
  {
   "cell_type": "code",
   "execution_count": 44,
   "id": "60747e19-92ac-4040-acec-d278b325712a",
   "metadata": {},
   "outputs": [
    {
     "data": {
      "text/html": [
       "<div>\n",
       "<style scoped>\n",
       "    .dataframe tbody tr th:only-of-type {\n",
       "        vertical-align: middle;\n",
       "    }\n",
       "\n",
       "    .dataframe tbody tr th {\n",
       "        vertical-align: top;\n",
       "    }\n",
       "\n",
       "    .dataframe thead th {\n",
       "        text-align: right;\n",
       "    }\n",
       "</style>\n",
       "<table border=\"1\" class=\"dataframe\">\n",
       "  <thead>\n",
       "    <tr style=\"text-align: right;\">\n",
       "      <th></th>\n",
       "      <th>asin</th>\n",
       "      <th>reviewText</th>\n",
       "      <th>prediction</th>\n",
       "    </tr>\n",
       "  </thead>\n",
       "  <tbody>\n",
       "    <tr>\n",
       "      <th>401</th>\n",
       "      <td>B0002H0JZC</td>\n",
       "      <td>i've used d'addario strings for bass, electric, acoustic, and classic. even though this string was my first time use and it haven't failed me yet!! it's very stable and in tune all time while playing. highly recommand to other ppl</td>\n",
       "      <td>5.0</td>\n",
       "    </tr>\n",
       "    <tr>\n",
       "      <th>180</th>\n",
       "      <td>B002M8EEW8</td>\n",
       "      <td>After online research, I decided to buy (and found locally) this midi pad to use in Reason 4. Although not confirmed (online) as working with Reason, I was happy to see it worked immediately with no problems. My CPU is Windows 7, but it worked on my MSI netbook also. This unit also worked in Ableton Live (as stated online). I would recommend this pad to anyone looking for an affordable midi drum pad that works in many music programs.</td>\n",
       "      <td>5.0</td>\n",
       "    </tr>\n",
       "    <tr>\n",
       "      <th>560</th>\n",
       "      <td>B0002H0KG0</td>\n",
       "      <td>We bought this for my daughter's boyfriend; we saved it as the last gift to give on Christmas Day; he wrapped the strap around his neck and never put it back down; I still don't think it has come out of his hands for more than a few minutes; I believe he is very happy with his gift!</td>\n",
       "      <td>5.0</td>\n",
       "    </tr>\n",
       "    <tr>\n",
       "      <th>119</th>\n",
       "      <td>B001EL6I8W</td>\n",
       "      <td>I play a few stringed instruments, and ukulele isn't one of them. But after seeing so many great uke players lately- Jake Shimaukuro, Joe Brown- I had a hankering to try some ukulele playing myself. I wanted a playable instrument, and I didn't feel like spending a lot of money. I've tried $30-40 ukes in stores that were big disappointments- bad intonation, no tone, etc. After reading reviews here and elsewhere I decided to risk a purchase.Result? This is a surprisingly good instrument for less than fifty bucks. Sure, it doesn't have the volume or the rich tone of a soprano with a solid top, but it delivers good tone, excellent intonation, and good playability at a very good price. It may not be a 5-star intrument- but it's a 5-star value.If you're thinking about trying ukulele, but you're not sure you want to buy an expensive instrument right away, I would strongly recommend an LU-21. Even after you buy a better uke, this is a great one to keep on hand to shove into the hands of unsuspecting guests, so that you can play ukulele duets!</td>\n",
       "      <td>5.0</td>\n",
       "    </tr>\n",
       "    <tr>\n",
       "      <th>721</th>\n",
       "      <td>B005A09I7Q</td>\n",
       "      <td>Recently got the itch to try some different picks out just for fun.. these, rubber picks, metal picks, etc. I play guitar.I'm not crazy about these for that purpose, but they aren't made for guitar obviously, so I can't fault them. They seem to be made well made. They are larger than I expected, and rather thick.Obviously these are made for ukes, so my review is probably not helpful to many. If you're like me and were looking for some variety for the guitar I'd suggest the rubber picks instead. They give a similar mellow sound without mudding up the tone, and they are easier and more comfortable to use also. Heck, maybe uke players should try those too?</td>\n",
       "      <td>5.0</td>\n",
       "    </tr>\n",
       "  </tbody>\n",
       "</table>\n",
       "</div>"
      ],
      "text/plain": [
       "           asin  \\\n",
       "401  B0002H0JZC   \n",
       "180  B002M8EEW8   \n",
       "560  B0002H0KG0   \n",
       "119  B001EL6I8W   \n",
       "721  B005A09I7Q   \n",
       "\n",
       "                                                                                                                                                                                                                                                                                                                                                                                                                                                                                                                                                                                                                                                                                                                                                                                                                                                                                                                                                                                                                                                                                     reviewText  \\\n",
       "401                                                                                                                                                                                                                                                                                                                                                                                                                                                                                                                                                                                                                                                                                                                                                                                                                                                      i've used d'addario strings for bass, electric, acoustic, and classic. even though this string was my first time use and it haven't failed me yet!! it's very stable and in tune all time while playing. highly recommand to other ppl   \n",
       "180                                                                                                                                                                                                                                                                                                                                                                                                                                                                                                                                                                                                                                       After online research, I decided to buy (and found locally) this midi pad to use in Reason 4. Although not confirmed (online) as working with Reason, I was happy to see it worked immediately with no problems. My CPU is Windows 7, but it worked on my MSI netbook also. This unit also worked in Ableton Live (as stated online). I would recommend this pad to anyone looking for an affordable midi drum pad that works in many music programs.   \n",
       "560                                                                                                                                                                                                                                                                                                                                                                                                                                                                                                                                                                                                                                                                                                                                                                                                 We bought this for my daughter's boyfriend; we saved it as the last gift to give on Christmas Day; he wrapped the strap around his neck and never put it back down; I still don't think it has come out of his hands for more than a few minutes; I believe he is very happy with his gift!   \n",
       "119  I play a few stringed instruments, and ukulele isn't one of them. But after seeing so many great uke players lately- Jake Shimaukuro, Joe Brown- I had a hankering to try some ukulele playing myself. I wanted a playable instrument, and I didn't feel like spending a lot of money. I've tried $30-40 ukes in stores that were big disappointments- bad intonation, no tone, etc. After reading reviews here and elsewhere I decided to risk a purchase.Result? This is a surprisingly good instrument for less than fifty bucks. Sure, it doesn't have the volume or the rich tone of a soprano with a solid top, but it delivers good tone, excellent intonation, and good playability at a very good price. It may not be a 5-star intrument- but it's a 5-star value.If you're thinking about trying ukulele, but you're not sure you want to buy an expensive instrument right away, I would strongly recommend an LU-21. Even after you buy a better uke, this is a great one to keep on hand to shove into the hands of unsuspecting guests, so that you can play ukulele duets!   \n",
       "721                                                                                                                                                                                                                                                                                                                                                                                                       Recently got the itch to try some different picks out just for fun.. these, rubber picks, metal picks, etc. I play guitar.I'm not crazy about these for that purpose, but they aren't made for guitar obviously, so I can't fault them. They seem to be made well made. They are larger than I expected, and rather thick.Obviously these are made for ukes, so my review is probably not helpful to many. If you're like me and were looking for some variety for the guitar I'd suggest the rubber picks instead. They give a similar mellow sound without mudding up the tone, and they are easier and more comfortable to use also. Heck, maybe uke players should try those too?   \n",
       "\n",
       "     prediction  \n",
       "401         5.0  \n",
       "180         5.0  \n",
       "560         5.0  \n",
       "119         5.0  \n",
       "721         5.0  "
      ]
     },
     "execution_count": 44,
     "metadata": {},
     "output_type": "execute_result"
    }
   ],
   "source": [
    "pd.set_option('display.max_colwidth', None)\n",
    "knn_preds = pd.DataFrame(preds, columns = ['asin', 'reviewText', 'prediction']).sort_values('prediction', ascending = False)\n",
    "knn_preds.head()"
   ]
  },
  {
   "cell_type": "markdown",
   "id": "c6afb6a7-3ac3-4207-bce2-5c041b004ad6",
   "metadata": {},
   "source": [
    "- струны для гитары\n",
    "- контроллер для инструментов\n",
    "- нечто, что вешают на шею, к сожалению их описания не понятно, что это\n",
    "- укулель\n",
    "- медиатор для гитары"
   ]
  },
  {
   "cell_type": "markdown",
   "id": "0c6abce1-c7f9-40c0-9687-2bf1a39c2b06",
   "metadata": {},
   "source": [
    "В принципе неплохо. А что, если обьединить рекомендациями Content-based?"
   ]
  },
  {
   "cell_type": "code",
   "execution_count": 45,
   "id": "12e2e05c-cbd3-4d4c-be3d-349dfe912bc4",
   "metadata": {},
   "outputs": [],
   "source": [
    "recommendation = {\n",
    "    \"item\": cur_user.sort_values('overall').iloc[-1].asin,\n",
    "    \"item_number\": 5\n",
    "}\n",
    "recom_item = recommedations.recommend(recommendation, verbose = False)\n",
    "content_preds = pd.DataFrame(recom_item, columns = ['similarity','reviewText','asin'])"
   ]
  },
  {
   "cell_type": "code",
   "execution_count": 46,
   "id": "6c9d8537-efe6-4c6c-b3e6-28022b8aca60",
   "metadata": {},
   "outputs": [],
   "source": [
    "res_recos = pd.concat([knn_preds[['asin','reviewText']].head(), content_preds[['asin','reviewText']]])\n",
    "res_recos = res_recos.sample(frac=1).reset_index(drop = True)"
   ]
  },
  {
   "cell_type": "code",
   "execution_count": 47,
   "id": "9ea5e610-bd77-4f31-ae5a-b09540f38daf",
   "metadata": {},
   "outputs": [],
   "source": [
    "import sklearn\n",
    "from sklearn.utils import shuffle"
   ]
  },
  {
   "cell_type": "code",
   "execution_count": 48,
   "id": "71c1fb49-74a0-4345-82f3-a21c602160aa",
   "metadata": {},
   "outputs": [],
   "source": [
    "recomendations_for_customer = shuffle(res_recos, random_state = 0)"
   ]
  },
  {
   "cell_type": "code",
   "execution_count": 49,
   "id": "8f512794-4414-4c47-817c-237935e3dc42",
   "metadata": {
    "scrolled": true
   },
   "outputs": [
    {
     "data": {
      "text/html": [
       "<div>\n",
       "<style scoped>\n",
       "    .dataframe tbody tr th:only-of-type {\n",
       "        vertical-align: middle;\n",
       "    }\n",
       "\n",
       "    .dataframe tbody tr th {\n",
       "        vertical-align: top;\n",
       "    }\n",
       "\n",
       "    .dataframe thead th {\n",
       "        text-align: right;\n",
       "    }\n",
       "</style>\n",
       "<table border=\"1\" class=\"dataframe\">\n",
       "  <thead>\n",
       "    <tr style=\"text-align: right;\">\n",
       "      <th></th>\n",
       "      <th>asin</th>\n",
       "      <th>reviewText</th>\n",
       "    </tr>\n",
       "  </thead>\n",
       "  <tbody>\n",
       "    <tr>\n",
       "      <th>2</th>\n",
       "      <td>B0002H0JZC</td>\n",
       "      <td>i've used d'addario strings for bass, electric, acoustic, and classic. even though this string was my first time use and it haven't failed me yet!! it's very stable and in tune all time while playing. highly recommand to other ppl</td>\n",
       "    </tr>\n",
       "    <tr>\n",
       "      <th>8</th>\n",
       "      <td>B003B01QR2</td>\n",
       "      <td>these come in multiple thickness and are great because of the thickness and the grip that is on the pick. makes it much easier to hold the pick as your hands get sweaty</td>\n",
       "    </tr>\n",
       "    <tr>\n",
       "      <th>4</th>\n",
       "      <td>B0002H0KG0</td>\n",
       "      <td>We bought this for my daughter's boyfriend; we saved it as the last gift to give on Christmas Day; he wrapped the strap around his neck and never put it back down; I still don't think it has come out of his hands for more than a few minutes; I believe he is very happy with his gift!</td>\n",
       "    </tr>\n",
       "    <tr>\n",
       "      <th>9</th>\n",
       "      <td>B005A09I7Q</td>\n",
       "      <td>Recently got the itch to try some different picks out just for fun.. these, rubber picks, metal picks, etc. I play guitar.I'm not crazy about these for that purpose, but they aren't made for guitar obviously, so I can't fault them. They seem to be made well made. They are larger than I expected, and rather thick.Obviously these are made for ukes, so my review is probably not helpful to many. If you're like me and were looking for some variety for the guitar I'd suggest the rubber picks instead. They give a similar mellow sound without mudding up the tone, and they are easier and more comfortable to use also. Heck, maybe uke players should try those too?</td>\n",
       "    </tr>\n",
       "    <tr>\n",
       "      <th>1</th>\n",
       "      <td>B0002CZSJO</td>\n",
       "      <td>Durable, affordable, easy to grasp and use.</td>\n",
       "    </tr>\n",
       "    <tr>\n",
       "      <th>6</th>\n",
       "      <td>B0002E2XCW</td>\n",
       "      <td>I almost always play finger style without a pick, but on the occasion I need a pick I like these.Easier to strum sounds good to me.If you're doing a lot of picking out individual strings, you'll probably want something thicker, but these make it really easy to strum chords and sound good, plus pick out a few strings here and there.</td>\n",
       "    </tr>\n",
       "    <tr>\n",
       "      <th>7</th>\n",
       "      <td>B001EL6I8W</td>\n",
       "      <td>I play a few stringed instruments, and ukulele isn't one of them. But after seeing so many great uke players lately- Jake Shimaukuro, Joe Brown- I had a hankering to try some ukulele playing myself. I wanted a playable instrument, and I didn't feel like spending a lot of money. I've tried $30-40 ukes in stores that were big disappointments- bad intonation, no tone, etc. After reading reviews here and elsewhere I decided to risk a purchase.Result? This is a surprisingly good instrument for less than fifty bucks. Sure, it doesn't have the volume or the rich tone of a soprano with a solid top, but it delivers good tone, excellent intonation, and good playability at a very good price. It may not be a 5-star intrument- but it's a 5-star value.If you're thinking about trying ukulele, but you're not sure you want to buy an expensive instrument right away, I would strongly recommend an LU-21. Even after you buy a better uke, this is a great one to keep on hand to shove into the hands of unsuspecting guests, so that you can play ukulele duets!</td>\n",
       "    </tr>\n",
       "    <tr>\n",
       "      <th>3</th>\n",
       "      <td>B0002D0CGW</td>\n",
       "      <td>I like a flexible pick and these at .60mm work just fine.  They are also in a good color so they don't stand out too much.</td>\n",
       "    </tr>\n",
       "    <tr>\n",
       "      <th>0</th>\n",
       "      <td>B001PGXHX0</td>\n",
       "      <td>What else can be said about them, they're good picks. They strum well, they pick well and they look good</td>\n",
       "    </tr>\n",
       "    <tr>\n",
       "      <th>5</th>\n",
       "      <td>B002M8EEW8</td>\n",
       "      <td>After online research, I decided to buy (and found locally) this midi pad to use in Reason 4. Although not confirmed (online) as working with Reason, I was happy to see it worked immediately with no problems. My CPU is Windows 7, but it worked on my MSI netbook also. This unit also worked in Ableton Live (as stated online). I would recommend this pad to anyone looking for an affordable midi drum pad that works in many music programs.</td>\n",
       "    </tr>\n",
       "  </tbody>\n",
       "</table>\n",
       "</div>"
      ],
      "text/plain": [
       "         asin  \\\n",
       "2  B0002H0JZC   \n",
       "8  B003B01QR2   \n",
       "4  B0002H0KG0   \n",
       "9  B005A09I7Q   \n",
       "1  B0002CZSJO   \n",
       "6  B0002E2XCW   \n",
       "7  B001EL6I8W   \n",
       "3  B0002D0CGW   \n",
       "0  B001PGXHX0   \n",
       "5  B002M8EEW8   \n",
       "\n",
       "                                                                                                                                                                                                                                                                                                                                                                                                                                                                                                                                                                                                                                                                                                                                                                                                                                                                                                                                                                                                                                                                                   reviewText  \n",
       "2                                                                                                                                                                                                                                                                                                                                                                                                                                                                                                                                                                                                                                                                                                                                                                                                                                                      i've used d'addario strings for bass, electric, acoustic, and classic. even though this string was my first time use and it haven't failed me yet!! it's very stable and in tune all time while playing. highly recommand to other ppl  \n",
       "8                                                                                                                                                                                                                                                                                                                                                                                                                                                                                                                                                                                                                                                                                                                                                                                                                                                                                                                    these come in multiple thickness and are great because of the thickness and the grip that is on the pick. makes it much easier to hold the pick as your hands get sweaty  \n",
       "4                                                                                                                                                                                                                                                                                                                                                                                                                                                                                                                                                                                                                                                                                                                                                                                                 We bought this for my daughter's boyfriend; we saved it as the last gift to give on Christmas Day; he wrapped the strap around his neck and never put it back down; I still don't think it has come out of his hands for more than a few minutes; I believe he is very happy with his gift!  \n",
       "9                                                                                                                                                                                                                                                                                                                                                                                                       Recently got the itch to try some different picks out just for fun.. these, rubber picks, metal picks, etc. I play guitar.I'm not crazy about these for that purpose, but they aren't made for guitar obviously, so I can't fault them. They seem to be made well made. They are larger than I expected, and rather thick.Obviously these are made for ukes, so my review is probably not helpful to many. If you're like me and were looking for some variety for the guitar I'd suggest the rubber picks instead. They give a similar mellow sound without mudding up the tone, and they are easier and more comfortable to use also. Heck, maybe uke players should try those too?  \n",
       "1                                                                                                                                                                                                                                                                                                                                                                                                                                                                                                                                                                                                                                                                                                                                                                                                                                                                                                                                                                                                                                                 Durable, affordable, easy to grasp and use.  \n",
       "6                                                                                                                                                                                                                                                                                                                                                                                                                                                                                                                                                                                                                                                                                                                                               I almost always play finger style without a pick, but on the occasion I need a pick I like these.Easier to strum sounds good to me.If you're doing a lot of picking out individual strings, you'll probably want something thicker, but these make it really easy to strum chords and sound good, plus pick out a few strings here and there.  \n",
       "7  I play a few stringed instruments, and ukulele isn't one of them. But after seeing so many great uke players lately- Jake Shimaukuro, Joe Brown- I had a hankering to try some ukulele playing myself. I wanted a playable instrument, and I didn't feel like spending a lot of money. I've tried $30-40 ukes in stores that were big disappointments- bad intonation, no tone, etc. After reading reviews here and elsewhere I decided to risk a purchase.Result? This is a surprisingly good instrument for less than fifty bucks. Sure, it doesn't have the volume or the rich tone of a soprano with a solid top, but it delivers good tone, excellent intonation, and good playability at a very good price. It may not be a 5-star intrument- but it's a 5-star value.If you're thinking about trying ukulele, but you're not sure you want to buy an expensive instrument right away, I would strongly recommend an LU-21. Even after you buy a better uke, this is a great one to keep on hand to shove into the hands of unsuspecting guests, so that you can play ukulele duets!  \n",
       "3                                                                                                                                                                                                                                                                                                                                                                                                                                                                                                                                                                                                                                                                                                                                                                                                                                                                                                                                                                  I like a flexible pick and these at .60mm work just fine.  They are also in a good color so they don't stand out too much.  \n",
       "0                                                                                                                                                                                                                                                                                                                                                                                                                                                                                                                                                                                                                                                                                                                                                                                                                                                                                                                                                                                    What else can be said about them, they're good picks. They strum well, they pick well and they look good  \n",
       "5                                                                                                                                                                                                                                                                                                                                                                                                                                                                                                                                                                                                                                       After online research, I decided to buy (and found locally) this midi pad to use in Reason 4. Although not confirmed (online) as working with Reason, I was happy to see it worked immediately with no problems. My CPU is Windows 7, but it worked on my MSI netbook also. This unit also worked in Ableton Live (as stated online). I would recommend this pad to anyone looking for an affordable midi drum pad that works in many music programs.  "
      ]
     },
     "execution_count": 49,
     "metadata": {},
     "output_type": "execute_result"
    }
   ],
   "source": [
    "recomendations_for_customer"
   ]
  },
  {
   "cell_type": "markdown",
   "id": "274ed1dc-a3ec-482e-8d51-196af958d2fd",
   "metadata": {},
   "source": [
    "Гибридный подход дает неплохой результат. Предлагаются товары, похожие на те, которые он уже покупал, а также что еще может понадобиться вместе с ними."
   ]
  },
  {
   "cell_type": "code",
   "execution_count": null,
   "id": "0839fc97-df5f-4bde-8be6-40d211c60dc6",
   "metadata": {},
   "outputs": [],
   "source": []
  }
 ],
 "metadata": {
  "kernelspec": {
   "display_name": "Python 3 (ipykernel)",
   "language": "python",
   "name": "python3"
  },
  "language_info": {
   "codemirror_mode": {
    "name": "ipython",
    "version": 3
   },
   "file_extension": ".py",
   "mimetype": "text/x-python",
   "name": "python",
   "nbconvert_exporter": "python",
   "pygments_lexer": "ipython3",
   "version": "3.10.12"
  }
 },
 "nbformat": 4,
 "nbformat_minor": 5
}
